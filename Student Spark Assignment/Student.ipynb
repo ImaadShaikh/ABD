{
  "nbformat": 4,
  "nbformat_minor": 0,
  "metadata": {
    "colab": {
      "provenance": []
    },
    "kernelspec": {
      "name": "python3",
      "display_name": "Python 3"
    },
    "language_info": {
      "name": "python"
    }
  },
  "cells": [
    {
      "cell_type": "code",
      "execution_count": 57,
      "metadata": {
        "colab": {
          "base_uri": "https://localhost:8080/"
        },
        "id": "5BMFn8S1VzL0",
        "outputId": "73392792-685f-402f-c072-be0d839cb175"
      },
      "outputs": [
        {
          "output_type": "stream",
          "name": "stdout",
          "text": [
            "Requirement already satisfied: pyspark in /usr/local/lib/python3.10/dist-packages (3.5.0)\n",
            "Requirement already satisfied: py4j==0.10.9.7 in /usr/local/lib/python3.10/dist-packages (from pyspark) (0.10.9.7)\n"
          ]
        }
      ],
      "source": [
        "!pip install pyspark"
      ]
    },
    {
      "cell_type": "code",
      "source": [
        "import pyspark\n",
        "from pyspark.sql import SparkSession\n",
        "spark = SparkSession.builder.appName('Students').getOrCreate()"
      ],
      "metadata": {
        "id": "QcRQxMp1V67d"
      },
      "execution_count": 70,
      "outputs": []
    },
    {
      "cell_type": "code",
      "source": [
        "from google.colab import drive\n",
        "drive.mount('/content/drive')"
      ],
      "metadata": {
        "colab": {
          "base_uri": "https://localhost:8080/"
        },
        "id": "C3yBJNVmWHn_",
        "outputId": "e50a0011-2ea9-43a6-fe4d-cc674c1a6a2c"
      },
      "execution_count": 59,
      "outputs": [
        {
          "output_type": "stream",
          "name": "stdout",
          "text": [
            "Drive already mounted at /content/drive; to attempt to forcibly remount, call drive.mount(\"/content/drive\", force_remount=True).\n"
          ]
        }
      ]
    },
    {
      "cell_type": "code",
      "source": [
        "from pyspark.sql.functions import *\n",
        "from pyspark.sql.types import *\n",
        "from pyspark.sql.window import Window\n",
        "\n"
      ],
      "metadata": {
        "id": "ai1Dxqh2WX7s"
      },
      "execution_count": 71,
      "outputs": []
    },
    {
      "cell_type": "code",
      "source": [
        "df = spark.sparkContext.textFile('drive/My Drive/ABD/students.csv')"
      ],
      "metadata": {
        "id": "Pb9xmcHCXx5p"
      },
      "execution_count": 72,
      "outputs": []
    },
    {
      "cell_type": "code",
      "source": [
        "df = spark.read.csv('drive/My Drive/ABD/students.csv', header = True , inferSchema = True)\n",
        "df.show()\n",
        "df.printSchema()"
      ],
      "metadata": {
        "colab": {
          "base_uri": "https://localhost:8080/"
        },
        "id": "-PpCkREtY_Kt",
        "outputId": "1cdbefb3-4163-4e68-bd40-2c1f01315d06"
      },
      "execution_count": 73,
      "outputs": [
        {
          "output_type": "stream",
          "name": "stdout",
          "text": [
            "+------+--------------+---------------------------+------------+-----------------------+----------+-------------+-------------+\n",
            "|gender|race/ethnicity|parental level of education|       lunch|test preparation course|math score|reading score|writing score|\n",
            "+------+--------------+---------------------------+------------+-----------------------+----------+-------------+-------------+\n",
            "|female|       group B|          bachelor's degree|    standard|                   none|        72|           72|           74|\n",
            "|female|       group C|               some college|    standard|              completed|        69|           90|           88|\n",
            "|female|       group B|            master's degree|    standard|                   none|        90|           95|           93|\n",
            "|  male|       group A|         associate's degree|free/reduced|                   none|        47|           57|           44|\n",
            "|  male|       group C|               some college|    standard|                   none|        76|           78|           75|\n",
            "|female|       group B|         associate's degree|    standard|                   none|        71|           83|           78|\n",
            "|female|       group B|               some college|    standard|              completed|        88|           95|           92|\n",
            "|  male|       group B|               some college|free/reduced|                   none|        40|           43|           39|\n",
            "|  male|       group D|                high school|free/reduced|              completed|        64|           64|           67|\n",
            "|female|       group B|                high school|free/reduced|                   none|        38|           60|           50|\n",
            "|  male|       group C|         associate's degree|    standard|                   none|        58|           54|           52|\n",
            "|  male|       group D|         associate's degree|    standard|                   none|        40|           52|           43|\n",
            "|female|       group B|                high school|    standard|                   none|        65|           81|           73|\n",
            "|  male|       group A|               some college|    standard|              completed|        78|           72|           70|\n",
            "|female|       group A|            master's degree|    standard|                   none|        50|           53|           58|\n",
            "|female|       group C|           some high school|    standard|                   none|        69|           75|           78|\n",
            "|  male|       group C|                high school|    standard|                   none|        88|           89|           86|\n",
            "|female|       group B|           some high school|free/reduced|                   none|        18|           32|           28|\n",
            "|  male|       group C|            master's degree|free/reduced|              completed|        46|           42|           46|\n",
            "|female|       group C|         associate's degree|free/reduced|                   none|        54|           58|           61|\n",
            "+------+--------------+---------------------------+------------+-----------------------+----------+-------------+-------------+\n",
            "only showing top 20 rows\n",
            "\n",
            "root\n",
            " |-- gender: string (nullable = true)\n",
            " |-- race/ethnicity: string (nullable = true)\n",
            " |-- parental level of education: string (nullable = true)\n",
            " |-- lunch: string (nullable = true)\n",
            " |-- test preparation course: string (nullable = true)\n",
            " |-- math score: integer (nullable = true)\n",
            " |-- reading score: integer (nullable = true)\n",
            " |-- writing score: integer (nullable = true)\n",
            "\n"
          ]
        }
      ]
    },
    {
      "cell_type": "code",
      "source": [
        "# 1. Number of male and female students\n",
        "df.select('gender').groupBy('gender').count().show()"
      ],
      "metadata": {
        "colab": {
          "base_uri": "https://localhost:8080/"
        },
        "id": "WxdghyfEZZZY",
        "outputId": "471efa21-44be-43c5-e67a-7418ca5fad1a"
      },
      "execution_count": 63,
      "outputs": [
        {
          "output_type": "stream",
          "name": "stdout",
          "text": [
            "+------+-----+\n",
            "|gender|count|\n",
            "+------+-----+\n",
            "|female|  518|\n",
            "|  male|  482|\n",
            "+------+-----+\n",
            "\n"
          ]
        }
      ]
    },
    {
      "cell_type": "code",
      "source": [
        "#2.List different 'race/ethnicity\n",
        "df.select('race/ethnicity').groupBy('race/ethnicity').count().show()"
      ],
      "metadata": {
        "colab": {
          "base_uri": "https://localhost:8080/"
        },
        "id": "9Bw9y9zpaDz_",
        "outputId": "4451deca-ae8d-4d29-9082-80d07026360f"
      },
      "execution_count": 64,
      "outputs": [
        {
          "output_type": "stream",
          "name": "stdout",
          "text": [
            "+--------------+-----+\n",
            "|race/ethnicity|count|\n",
            "+--------------+-----+\n",
            "|       group B|  190|\n",
            "|       group C|  319|\n",
            "|       group D|  262|\n",
            "|       group A|   89|\n",
            "|       group E|  140|\n",
            "+--------------+-----+\n",
            "\n"
          ]
        }
      ]
    },
    {
      "cell_type": "code",
      "source": [
        "#3. What are different 'parental level of education'?\n",
        "df.select('parental level of education').distinct().show()"
      ],
      "metadata": {
        "colab": {
          "base_uri": "https://localhost:8080/"
        },
        "id": "OKtRsF76d8ZH",
        "outputId": "7cd5af68-b606-4997-b85f-bda5c580caba"
      },
      "execution_count": 65,
      "outputs": [
        {
          "output_type": "stream",
          "name": "stdout",
          "text": [
            "+---------------------------+\n",
            "|parental level of education|\n",
            "+---------------------------+\n",
            "|           some high school|\n",
            "|         associate's degree|\n",
            "|                high school|\n",
            "|          bachelor's degree|\n",
            "|            master's degree|\n",
            "|               some college|\n",
            "+---------------------------+\n",
            "\n"
          ]
        }
      ]
    },
    {
      "cell_type": "code",
      "source": [
        "#4 How many female students scored more than 79 marks in math, whose parental level of education is 'high school'?\n",
        "df.filter((col('gender')=='female') & (col('math score')>79) & (col('parental level of education')=='high school')).show()"
      ],
      "metadata": {
        "colab": {
          "base_uri": "https://localhost:8080/"
        },
        "id": "FIgAoGpTijhV",
        "outputId": "61e2da97-0c5a-4931-8afb-6738baea012b"
      },
      "execution_count": 66,
      "outputs": [
        {
          "output_type": "stream",
          "name": "stdout",
          "text": [
            "+------+--------------+---------------------------+--------+-----------------------+----------+-------------+-------------+\n",
            "|gender|race/ethnicity|parental level of education|   lunch|test preparation course|math score|reading score|writing score|\n",
            "+------+--------------+---------------------------+--------+-----------------------+----------+-------------+-------------+\n",
            "|female|       group B|                high school|standard|                   none|        87|           95|           86|\n",
            "|female|       group E|                high school|standard|                   none|        99|           93|           90|\n",
            "|female|       group D|                high school|standard|              completed|        88|           99|          100|\n",
            "|female|       group B|                high school|standard|                   none|        81|           91|           89|\n",
            "|female|       group C|                high school|standard|                   none|        81|           84|           82|\n",
            "+------+--------------+---------------------------+--------+-----------------------+----------+-------------+-------------+\n",
            "\n"
          ]
        }
      ]
    },
    {
      "cell_type": "code",
      "source": [
        "#5. Check whether average maths score of male or female students are high?\n",
        "\n",
        "female = df.filter(col('gender')=='female')\\\n",
        ".select(avg('math score')).show()\n",
        "\n",
        "male = df.filter(col('gender')=='male')\\\n",
        ".select(avg('math score')).show()"
      ],
      "metadata": {
        "colab": {
          "base_uri": "https://localhost:8080/"
        },
        "id": "rwbRs1sErYOc",
        "outputId": "ad4188f2-f553-4a37-f353-9d1c5597a039"
      },
      "execution_count": 95,
      "outputs": [
        {
          "output_type": "stream",
          "name": "stdout",
          "text": [
            "+------------------+\n",
            "|   avg(math score)|\n",
            "+------------------+\n",
            "|63.633204633204635|\n",
            "+------------------+\n",
            "\n",
            "+-----------------+\n",
            "|  avg(math score)|\n",
            "+-----------------+\n",
            "|68.72821576763485|\n",
            "+-----------------+\n",
            "\n"
          ]
        }
      ]
    },
    {
      "cell_type": "code",
      "source": [
        "# 6  What is average reading score of male and female students?\n",
        "\n",
        "df.groupBy('gender').agg(avg('reading score')).show()"
      ],
      "metadata": {
        "colab": {
          "base_uri": "https://localhost:8080/"
        },
        "id": "HGbuTcNZkaCp",
        "outputId": "f1400643-5342-422d-97e2-f543385c2b8a"
      },
      "execution_count": 85,
      "outputs": [
        {
          "output_type": "stream",
          "name": "stdout",
          "text": [
            "+------+------------------+\n",
            "|gender|avg(reading score)|\n",
            "+------+------------------+\n",
            "|female| 72.60810810810811|\n",
            "|  male| 65.47302904564316|\n",
            "+------+------------------+\n",
            "\n"
          ]
        }
      ]
    },
    {
      "cell_type": "code",
      "source": [
        "#7 Whether students score depends upon 'parental level of education'? Justifyyour answer.\n",
        "df.groupBy('parental level of education').agg(avg('math score')\n",
        ",(avg('reading score'))\n",
        ",(avg('writing score'))).show()\n",
        "\n",
        "\n",
        "\n"
      ],
      "metadata": {
        "colab": {
          "base_uri": "https://localhost:8080/"
        },
        "id": "7MHGMwwMkeFh",
        "outputId": "bbc138f9-19af-4f3b-8e97-55276c8da884"
      },
      "execution_count": 90,
      "outputs": [
        {
          "output_type": "stream",
          "name": "stdout",
          "text": [
            "+---------------------------+------------------+------------------+------------------+\n",
            "|parental level of education|   avg(math score)|avg(reading score)|avg(writing score)|\n",
            "+---------------------------+------------------+------------------+------------------+\n",
            "|           some high school|63.497206703910614| 66.93854748603351| 64.88826815642459|\n",
            "|         associate's degree| 67.88288288288288| 70.92792792792793|  69.8963963963964|\n",
            "|                high school| 62.13775510204081| 64.70408163265306| 62.44897959183673|\n",
            "|          bachelor's degree| 69.38983050847457|              73.0| 73.38135593220339|\n",
            "|            master's degree|  69.7457627118644| 75.37288135593221| 75.67796610169492|\n",
            "|               some college|  67.1283185840708| 69.46017699115045| 68.84070796460178|\n",
            "+---------------------------+------------------+------------------+------------------+\n",
            "\n"
          ]
        }
      ]
    },
    {
      "cell_type": "code",
      "source": [
        "#List the records where 'test preparation course' is 'none' and scored more than 70 in maths.\n",
        "df.filter((col('test preparation course')=='none') & (col('math score')>70)).show()"
      ],
      "metadata": {
        "colab": {
          "base_uri": "https://localhost:8080/"
        },
        "id": "58DF8jV5khas",
        "outputId": "e4392783-23a8-4956-a94a-4351a402d5f1"
      },
      "execution_count": 91,
      "outputs": [
        {
          "output_type": "stream",
          "name": "stdout",
          "text": [
            "+------+--------------+---------------------------+------------+-----------------------+----------+-------------+-------------+\n",
            "|gender|race/ethnicity|parental level of education|       lunch|test preparation course|math score|reading score|writing score|\n",
            "+------+--------------+---------------------------+------------+-----------------------+----------+-------------+-------------+\n",
            "|female|       group B|          bachelor's degree|    standard|                   none|        72|           72|           74|\n",
            "|female|       group B|            master's degree|    standard|                   none|        90|           95|           93|\n",
            "|  male|       group C|               some college|    standard|                   none|        76|           78|           75|\n",
            "|female|       group B|         associate's degree|    standard|                   none|        71|           83|           78|\n",
            "|  male|       group C|                high school|    standard|                   none|        88|           89|           86|\n",
            "|  male|       group A|            master's degree|free/reduced|                   none|        73|           74|           72|\n",
            "|  male|       group E|               some college|    standard|                   none|        97|           87|           82|\n",
            "|female|       group D|         associate's degree|    standard|                   none|        74|           81|           83|\n",
            "|  male|       group D|                high school|    standard|                   none|        88|           78|           75|\n",
            "|  male|       group E|         associate's degree|    standard|                   none|        72|           64|           63|\n",
            "|female|       group C|               some college|    standard|                   none|        73|           80|           82|\n",
            "|female|       group C|               some college|free/reduced|                   none|        76|           83|           88|\n",
            "|female|       group D|         associate's degree|    standard|                   none|        71|           71|           74|\n",
            "|female|       group D|           some high school|    standard|                   none|        73|           86|           82|\n",
            "|  male|       group C|                high school|    standard|                   none|        71|           79|           71|\n",
            "|female|       group B|               some college|    standard|                   none|        79|           86|           92|\n",
            "|  male|       group B|               some college|    standard|                   none|        79|           67|           67|\n",
            "|female|       group D|         associate's degree|    standard|                   none|        85|           91|           89|\n",
            "|female|       group D|            master's degree|    standard|                   none|        87|          100|          100|\n",
            "|  male|       group C|                high school|    standard|                   none|        84|           77|           74|\n",
            "+------+--------------+---------------------------+------------+-----------------------+----------+-------------+-------------+\n",
            "only showing top 20 rows\n",
            "\n"
          ]
        }
      ]
    }
  ]
}