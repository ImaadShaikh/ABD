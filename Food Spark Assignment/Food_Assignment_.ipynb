{
  "nbformat": 4,
  "nbformat_minor": 0,
  "metadata": {
    "colab": {
      "provenance": []
    },
    "kernelspec": {
      "name": "python3",
      "display_name": "Python 3"
    },
    "language_info": {
      "name": "python"
    }
  },
  "cells": [
    {
      "cell_type": "code",
      "source": [
        "!pip install pyspark"
      ],
      "metadata": {
        "colab": {
          "base_uri": "https://localhost:8080/"
        },
        "id": "w8ZBXghZGrAd",
        "outputId": "756edf3d-7ca1-4062-b95c-d9c18c5c7340"
      },
      "execution_count": null,
      "outputs": [
        {
          "output_type": "stream",
          "name": "stdout",
          "text": [
            "Requirement already satisfied: pyspark in /usr/local/lib/python3.10/dist-packages (3.5.0)\n",
            "Requirement already satisfied: py4j==0.10.9.7 in /usr/local/lib/python3.10/dist-packages (from pyspark) (0.10.9.7)\n"
          ]
        }
      ]
    },
    {
      "cell_type": "code",
      "execution_count": null,
      "metadata": {
        "id": "Tia-6AwDF1tQ"
      },
      "outputs": [],
      "source": [
        "import pyspark\n",
        "from pyspark.sql import SparkSession\n",
        "spark = SparkSession.builder.appName('Food').getOrCreate()"
      ]
    },
    {
      "cell_type": "code",
      "source": [
        "from pyspark.sql.functions import *\n",
        "from pyspark.sql.types import *"
      ],
      "metadata": {
        "id": "hqkincOFHDu_"
      },
      "execution_count": null,
      "outputs": []
    },
    {
      "cell_type": "code",
      "source": [
        "from google.colab import drive\n",
        "drive.mount('/content/drive')"
      ],
      "metadata": {
        "colab": {
          "base_uri": "https://localhost:8080/"
        },
        "id": "CZUco65lHVNk",
        "outputId": "a7ab5abd-0e42-4718-b43b-ea2f2b14a0f2"
      },
      "execution_count": null,
      "outputs": [
        {
          "output_type": "stream",
          "name": "stdout",
          "text": [
            "Mounted at /content/drive\n"
          ]
        }
      ]
    },
    {
      "cell_type": "code",
      "source": [
        "df =  spark.sparkContext.textFile('drive/My Drive/ABD/indian_food.csv')"
      ],
      "metadata": {
        "id": "GN7msQW0Hl0G"
      },
      "execution_count": null,
      "outputs": []
    },
    {
      "cell_type": "code",
      "source": [
        "df = spark.read.csv('drive/My Drive/ABD/indian_food.csv',header = True,inferSchema= True)\n",
        "df.show()\n",
        "df.printSchema()\n"
      ],
      "metadata": {
        "colab": {
          "base_uri": "https://localhost:8080/"
        },
        "id": "aSTNDogeHwTi",
        "outputId": "77102303-ea08-4cea-fed9-dc8aef21bb67"
      },
      "execution_count": null,
      "outputs": [
        {
          "output_type": "stream",
          "name": "stdout",
          "text": [
            "+--------------+--------------------+----------+---------+---------+--------------+-------+-------------+------+\n",
            "|          name|         ingredients|      diet|prep_time|cook_time|flavor_profile| course|        state|region|\n",
            "+--------------+--------------------+----------+---------+---------+--------------+-------+-------------+------+\n",
            "|    Balu shahi|Maida flour, yogu...|vegetarian|       45|       25|         sweet|dessert|  West Bengal|  East|\n",
            "|        Boondi|Gram flour, ghee,...|vegetarian|       80|       30|         sweet|dessert|    Rajasthan|  West|\n",
            "|Gajar ka halwa|Carrots, milk, su...|vegetarian|       15|       60|         sweet|dessert|       Punjab| North|\n",
            "|        Ghevar|Flour, ghee, kewr...|vegetarian|       15|       30|         sweet|dessert|    Rajasthan|  West|\n",
            "|   Gulab jamun|Milk powder, plai...|vegetarian|       15|       40|         sweet|dessert|  West Bengal|  East|\n",
            "|        Imarti|Sugar syrup, lent...|vegetarian|       10|       50|         sweet|dessert|  West Bengal|  East|\n",
            "|        Jalebi|Maida, corn flour...|vegetarian|       10|       50|         sweet|dessert|Uttar Pradesh| North|\n",
            "|    Kaju katli|Cashews, ghee, ca...|vegetarian|       10|       20|         sweet|dessert|           -1|    -1|\n",
            "|      Kalakand|Milk, cottage che...|vegetarian|       20|       30|         sweet|dessert|  West Bengal|  East|\n",
            "|         Kheer|Milk, rice, sugar...|vegetarian|       10|       40|         sweet|dessert|           -1|    -1|\n",
            "|         Laddu|Gram flour, ghee,...|vegetarian|       10|       40|         sweet|dessert|           -1|    -1|\n",
            "|         Lassi|Yogurt, milk, nut...|vegetarian|        5|        5|         sweet|dessert|       Punjab| North|\n",
            "|     Nankhatai|Refined flour, be...|vegetarian|       20|       30|         sweet|dessert|           -1|    -1|\n",
            "|         Petha|Firm white pumpki...|vegetarian|       10|       30|         sweet|dessert|Uttar Pradesh| North|\n",
            "|        Phirni|   Rice, sugar, nuts|vegetarian|       30|       20|         sweet|dessert|       Odisha|  East|\n",
            "|         Rabri|Condensed milk, s...|vegetarian|       10|       45|         sweet|dessert|Uttar Pradesh| North|\n",
            "|        Sheera|Semolina, ghee, n...|vegetarian|       10|       25|         sweet|dessert|  Maharashtra|  West|\n",
            "|       Singori|Khoa, coconut, mo...|vegetarian|       10|       20|         sweet|dessert|  Uttarakhand| North|\n",
            "|   Sohan halwa|Corn flour, ghee,...|vegetarian|       10|       60|         sweet|dessert|Uttar Pradesh| North|\n",
            "|   Sohan papdi|Gram flour, ghee,...|vegetarian|       -1|       60|         sweet|dessert|  Maharashtra|  West|\n",
            "+--------------+--------------------+----------+---------+---------+--------------+-------+-------------+------+\n",
            "only showing top 20 rows\n",
            "\n",
            "root\n",
            " |-- name: string (nullable = true)\n",
            " |-- ingredients: string (nullable = true)\n",
            " |-- diet: string (nullable = true)\n",
            " |-- prep_time: integer (nullable = true)\n",
            " |-- cook_time: integer (nullable = true)\n",
            " |-- flavor_profile: string (nullable = true)\n",
            " |-- course: string (nullable = true)\n",
            " |-- state: string (nullable = true)\n",
            " |-- region: string (nullable = true)\n",
            "\n"
          ]
        }
      ]
    },
    {
      "cell_type": "code",
      "source": [
        "#Find out how many unique dishes are present\n",
        "df.groupBy('name').count().show()"
      ],
      "metadata": {
        "colab": {
          "base_uri": "https://localhost:8080/"
        },
        "id": "yhwvAfy2Jc5C",
        "outputId": "25070fc7-2e8e-47fe-fdd9-b67bc39047ca"
      },
      "execution_count": null,
      "outputs": [
        {
          "output_type": "stream",
          "name": "stdout",
          "text": [
            "+-----------------+-----+\n",
            "|             name|count|\n",
            "+-----------------+-----+\n",
            "|            Kheer|    1|\n",
            "|          Poriyal|    1|\n",
            "|Sabudana Khichadi|    1|\n",
            "|   Gajar ka halwa|    1|\n",
            "|     Keerai sadam|    1|\n",
            "|         Dalithoy|    1|\n",
            "|         Mihidana|    1|\n",
            "|          Singori|    1|\n",
            "|          Uttapam|    1|\n",
            "|          Gavvalu|    1|\n",
            "|   Kakinada khaja|    1|\n",
            "|   Chak Hao Kheer|    1|\n",
            "|          Pachadi|    1|\n",
            "|         Vindaloo|    1|\n",
            "|     Gheela Pitha|    1|\n",
            "|         Idiappam|    1|\n",
            "|     Keerai kootu|    1|\n",
            "|             Idli|    1|\n",
            "|            Saath|    1|\n",
            "|            Rabri|    1|\n",
            "+-----------------+-----+\n",
            "only showing top 20 rows\n",
            "\n"
          ]
        }
      ]
    },
    {
      "cell_type": "code",
      "source": [
        "#Which state has more dishes ?\n",
        "\n",
        "df.select('name','state').groupBy('state').count().show()"
      ],
      "metadata": {
        "colab": {
          "base_uri": "https://localhost:8080/"
        },
        "id": "EH5Tr4taK3JJ",
        "outputId": "04422ed1-4fef-47f2-c95a-b36456afe8da"
      },
      "execution_count": null,
      "outputs": [
        {
          "output_type": "stream",
          "name": "stdout",
          "text": [
            "+---------------+-----+\n",
            "|          state|count|\n",
            "+---------------+-----+\n",
            "|       Nagaland|    1|\n",
            "|      Karnataka|    6|\n",
            "|             -1|   24|\n",
            "|         Odisha|    7|\n",
            "|         Kerala|    8|\n",
            "|     Tamil Nadu|   20|\n",
            "|   Chhattisgarh|    1|\n",
            "| Andhra Pradesh|   10|\n",
            "| Madhya Pradesh|    2|\n",
            "|         Punjab|   32|\n",
            "|        Manipur|    2|\n",
            "|Jammu & Kashmir|    2|\n",
            "|            Goa|    3|\n",
            "|        Haryana|    1|\n",
            "|        Gujarat|   35|\n",
            "|      Rajasthan|    6|\n",
            "|          Assam|   21|\n",
            "|   NCT of Delhi|    1|\n",
            "|    West Bengal|   24|\n",
            "|    Maharashtra|   30|\n",
            "+---------------+-----+\n",
            "only showing top 20 rows\n",
            "\n"
          ]
        }
      ]
    },
    {
      "cell_type": "code",
      "source": [
        "#3. How many dishes from state Karnataka?\n",
        "\n",
        "df.select('name').where(col('state')== 'Karnataka').count()"
      ],
      "metadata": {
        "colab": {
          "base_uri": "https://localhost:8080/"
        },
        "id": "MjkwVItuLkXP",
        "outputId": "b75023be-54dc-4c45-8bff-8d6b0745dfe8"
      },
      "execution_count": null,
      "outputs": [
        {
          "output_type": "execute_result",
          "data": {
            "text/plain": [
              "6"
            ]
          },
          "metadata": {},
          "execution_count": 28
        }
      ]
    },
    {
      "cell_type": "code",
      "source": [
        "# 4 List number of unique regions\n",
        "df.groupBy('region').count().show()"
      ],
      "metadata": {
        "colab": {
          "base_uri": "https://localhost:8080/"
        },
        "id": "3qjHTGkFMBQF",
        "outputId": "d253e413-7a70-41b7-a7bc-bd01999a5754"
      },
      "execution_count": null,
      "outputs": [
        {
          "output_type": "stream",
          "name": "stdout",
          "text": [
            "+----------+-----+\n",
            "|    region|count|\n",
            "+----------+-----+\n",
            "|        -1|   13|\n",
            "|      NULL|    1|\n",
            "|     South|   59|\n",
            "|   Central|    3|\n",
            "|      East|   31|\n",
            "|      West|   74|\n",
            "|North East|   25|\n",
            "|     North|   49|\n",
            "+----------+-----+\n",
            "\n"
          ]
        }
      ]
    },
    {
      "cell_type": "code",
      "source": [
        "# 5.Count number of dishes from each region.\n",
        "df.select('name','region').groupBy('region').count().show()"
      ],
      "metadata": {
        "colab": {
          "base_uri": "https://localhost:8080/"
        },
        "id": "Kronuj8jMXve",
        "outputId": "03f8908c-f977-4842-c1ad-be0c6f7870db"
      },
      "execution_count": null,
      "outputs": [
        {
          "output_type": "stream",
          "name": "stdout",
          "text": [
            "+----------+-----+\n",
            "|    region|count|\n",
            "+----------+-----+\n",
            "|        -1|   13|\n",
            "|      NULL|    1|\n",
            "|     South|   59|\n",
            "|   Central|    3|\n",
            "|      East|   31|\n",
            "|      West|   74|\n",
            "|North East|   25|\n",
            "|     North|   49|\n",
            "+----------+-----+\n",
            "\n"
          ]
        }
      ]
    },
    {
      "cell_type": "code",
      "source": [
        "#6.List unique 'flavor_profile' and 'course\n",
        "df.groupBy('flavor_profile','course').count().show()"
      ],
      "metadata": {
        "colab": {
          "base_uri": "https://localhost:8080/"
        },
        "id": "V9OQssm0M676",
        "outputId": "1ea2e349-64d2-4527-8f4a-5019ba3a50a8"
      },
      "execution_count": null,
      "outputs": [
        {
          "output_type": "stream",
          "name": "stdout",
          "text": [
            "+--------------+-----------+-----+\n",
            "|flavor_profile|     course|count|\n",
            "+--------------+-----------+-----+\n",
            "|        bitter|      snack|    1|\n",
            "|         spicy|    starter|    2|\n",
            "|          sour|main course|    1|\n",
            "|            -1|      snack|    3|\n",
            "|            -1|main course|   26|\n",
            "|         sweet|main course|    3|\n",
            "|        bitter|main course|    3|\n",
            "|         spicy|      snack|   35|\n",
            "|         sweet|    dessert|   85|\n",
            "|         spicy|main course|   96|\n",
            "+--------------+-----------+-----+\n",
            "\n"
          ]
        }
      ]
    },
    {
      "cell_type": "code",
      "source": [
        "#7.Which state has more 'main course'?\n",
        "main = df.filter(df[\"course\"] == 'main course').groupBy(\"state\").count()\n",
        "max_count = state.agg({\"count\": \"max\"}).collect()[0][0]\n",
        "max_states = state.filter(state[\"count\"] == max_count)\n",
        "max_states.show()\n",
        "\n",
        "#main_course.select('course').filter(col('course') == main_course.agg({'course':'max'}).collect()[0][0]).count()"
      ],
      "metadata": {
        "colab": {
          "base_uri": "https://localhost:8080/"
        },
        "id": "8aTLyS_ZNEoe",
        "outputId": "962048b4-2ef8-4783-ded3-d3fc93dce96b"
      },
      "execution_count": null,
      "outputs": [
        {
          "output_type": "stream",
          "name": "stdout",
          "text": [
            "+------+-----+\n",
            "| state|count|\n",
            "+------+-----+\n",
            "|Punjab|   28|\n",
            "+------+-----+\n",
            "\n"
          ]
        }
      ]
    },
    {
      "cell_type": "code",
      "source": [
        "#8.Give the %of dishes from each region.\n",
        "\n",
        "df.groupBy(\"region\").count()\\\n",
        ".withColumn(\"percentage\", (col(\"count\") / df.count()) * 100).show()"
      ],
      "metadata": {
        "colab": {
          "base_uri": "https://localhost:8080/"
        },
        "id": "72Ir9GLeNHiF",
        "outputId": "50a56d5b-9892-48f2-c162-d66cae13b170"
      },
      "execution_count": null,
      "outputs": [
        {
          "output_type": "stream",
          "name": "stdout",
          "text": [
            "+----------+-----+-------------------+\n",
            "|    region|count|         percentage|\n",
            "+----------+-----+-------------------+\n",
            "|        -1|   13|  5.098039215686274|\n",
            "|      NULL|    1|0.39215686274509803|\n",
            "|     South|   59| 23.137254901960784|\n",
            "|   Central|    3| 1.1764705882352942|\n",
            "|      East|   31| 12.156862745098039|\n",
            "|      West|   74|  29.01960784313726|\n",
            "|North East|   25|  9.803921568627452|\n",
            "|     North|   49| 19.215686274509807|\n",
            "+----------+-----+-------------------+\n",
            "\n"
          ]
        }
      ]
    },
    {
      "cell_type": "code",
      "source": [
        "#9.List the states which has more dishes from each region.\n",
        "\n",
        "d=df.groupBy(\"region\",\"name\",\"state\").count().distinct()\\\n",
        ".agg(count(col(\"state\")).alias(\"count\"))\n",
        "d.show()\n",
        "\n",
        "from pyspark.sql.window import Window\n",
        "d = df.groupBy(\"region\", \"name\", \"state\").count().distinct()\n",
        "window_spec = Window.partitionBy(\"region\").orderBy(desc(\"count\"))\n",
        "d.withColumn(\"rank\", rank().over(window_spec))\\\n",
        ".filter(col(\"rank\") == 1).select(\"region\", \"state\", \"count\")\n",
        "d.show()"
      ],
      "metadata": {
        "colab": {
          "base_uri": "https://localhost:8080/"
        },
        "id": "_m-BHJ-wM6vI",
        "outputId": "61fc1c73-623f-4559-cd2f-b35ce825df16"
      },
      "execution_count": null,
      "outputs": [
        {
          "output_type": "stream",
          "name": "stdout",
          "text": [
            "+-----+\n",
            "|count|\n",
            "+-----+\n",
            "|  255|\n",
            "+-----+\n",
            "\n",
            "+----------+-----------------+---------------+-----+\n",
            "|    region|             name|          state|count|\n",
            "+----------+-----------------+---------------+-----+\n",
            "|     North|         Dum aloo|Jammu & Kashmir|    1|\n",
            "|     North|     Rajma chaval|             -1|    1|\n",
            "|     North|   Mushroom matar|         Punjab|    1|\n",
            "|     South|          Poriyal|     Tamil Nadu|    1|\n",
            "|      West|          Surnoli|    Maharashtra|    1|\n",
            "|      East|          Pakhala|         Odisha|    1|\n",
            "|     North|            Kofta|  Uttar Pradesh|    1|\n",
            "|     North|   Gajar ka halwa|         Punjab|    1|\n",
            "|      East|           Phirni|         Odisha|    1|\n",
            "|     North|Mushroom do pyaza|         Punjab|    1|\n",
            "|      West|     Coconut vadi|    Maharashtra|    1|\n",
            "|      West|           Sukhdi|    Maharashtra|    1|\n",
            "|     South|          Biryani|      Telangana|    1|\n",
            "|      West|       Sutar feni|    Maharashtra|    1|\n",
            "|        -1|        Pani puri|             -1|    1|\n",
            "|North East|       Alu Pitika|          Assam|    1|\n",
            "|     South|  Kuzhi paniyaram|         Kerala|    1|\n",
            "|      West|         Doodhpak|        Gujarat|    1|\n",
            "|        -1|        Nankhatai|             -1|    1|\n",
            "|     South|          Theeyal|         Kerala|    1|\n",
            "+----------+-----------------+---------------+-----+\n",
            "only showing top 20 rows\n",
            "\n"
          ]
        }
      ]
    }
  ]
}