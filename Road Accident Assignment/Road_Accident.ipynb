{
  "nbformat": 4,
  "nbformat_minor": 0,
  "metadata": {
    "colab": {
      "provenance": []
    },
    "kernelspec": {
      "name": "python3",
      "display_name": "Python 3"
    },
    "language_info": {
      "name": "python"
    }
  },
  "cells": [
    {
      "cell_type": "code",
      "execution_count": 1,
      "metadata": {
        "colab": {
          "base_uri": "https://localhost:8080/"
        },
        "id": "Xdv1Hwk4iOlG",
        "outputId": "46e56d08-59a9-4377-f04e-9ad24c5b6529"
      },
      "outputs": [
        {
          "output_type": "stream",
          "name": "stdout",
          "text": [
            "Collecting pyspark\n",
            "  Downloading pyspark-3.5.0.tar.gz (316.9 MB)\n",
            "\u001b[2K     \u001b[90m━━━━━━━━━━━━━━━━━━━━━━━━━━━━━━━━━━━━━━━━\u001b[0m \u001b[32m316.9/316.9 MB\u001b[0m \u001b[31m3.0 MB/s\u001b[0m eta \u001b[36m0:00:00\u001b[0m\n",
            "\u001b[?25h  Preparing metadata (setup.py) ... \u001b[?25l\u001b[?25hdone\n",
            "Requirement already satisfied: py4j==0.10.9.7 in /usr/local/lib/python3.10/dist-packages (from pyspark) (0.10.9.7)\n",
            "Building wheels for collected packages: pyspark\n",
            "  Building wheel for pyspark (setup.py) ... \u001b[?25l\u001b[?25hdone\n",
            "  Created wheel for pyspark: filename=pyspark-3.5.0-py2.py3-none-any.whl size=317425344 sha256=e39ef64fc572e2bc535a32a77d4040ffc3f420fea69d8155062d2f8eb186c050\n",
            "  Stored in directory: /root/.cache/pip/wheels/41/4e/10/c2cf2467f71c678cfc8a6b9ac9241e5e44a01940da8fbb17fc\n",
            "Successfully built pyspark\n",
            "Installing collected packages: pyspark\n",
            "Successfully installed pyspark-3.5.0\n"
          ]
        }
      ],
      "source": [
        "!pip install pyspark"
      ]
    },
    {
      "cell_type": "code",
      "source": [
        "import pyspark\n",
        "from pyspark.sql import SparkSession\n",
        "spark = SparkSession.builder.appName('Road Accident').getOrCreate()"
      ],
      "metadata": {
        "id": "u8DZcpETkQQl"
      },
      "execution_count": 20,
      "outputs": []
    },
    {
      "cell_type": "code",
      "source": [
        "from pyspark.sql.functions import *\n",
        "from pyspark.sql.types import *\n",
        "from pyspark.sql.window import Window"
      ],
      "metadata": {
        "id": "c7Z_8C1fkfJj"
      },
      "execution_count": 21,
      "outputs": []
    },
    {
      "cell_type": "code",
      "source": [
        "from google.colab import drive\n",
        "drive.mount('/content/drive')"
      ],
      "metadata": {
        "colab": {
          "base_uri": "https://localhost:8080/"
        },
        "id": "Esiul0XJk0Ko",
        "outputId": "5b3f8d57-25e8-41a6-8e5e-746f40180949"
      },
      "execution_count": 4,
      "outputs": [
        {
          "output_type": "stream",
          "name": "stdout",
          "text": [
            "Mounted at /content/drive\n"
          ]
        }
      ]
    },
    {
      "cell_type": "code",
      "source": [
        "df1 = spark.sparkContext.textFile('drive/My Drive/ABD/Road_accidents.csv')"
      ],
      "metadata": {
        "id": "iNuGj31MkuHB"
      },
      "execution_count": 22,
      "outputs": []
    },
    {
      "cell_type": "code",
      "source": [
        "df1 = spark.read.csv('drive/My Drive/ABD/Road_accidents.csv',header =True,inferSchema =True)\n",
        "df1.show()\n",
        "df1.printSchema()"
      ],
      "metadata": {
        "colab": {
          "base_uri": "https://localhost:8080/"
        },
        "id": "CStlM7h0nqJd",
        "outputId": "2e594ce8-2229-4213-faac-0addd8827272"
      },
      "execution_count": 23,
      "outputs": [
        {
          "output_type": "stream",
          "name": "stdout",
          "text": [
            "+--------------+----+-------+--------+-----+-----+----+----+----+------+---------+-------+--------+--------+\n",
            "|      STATE/UT|YEAR|JANUARY|FEBRUARY|MARCH|APRIL| MAY|JUNE|JULY|AUGUST|SEPTEMBER|OCTOBER|NOVEMBER|DECEMBER|\n",
            "+--------------+----+-------+--------+-----+-----+----+----+----+------+---------+-------+--------+--------+\n",
            "| A & N Islands|2001|      8|      23|   15|   15|  14|  19|  14|    19|        7|     12|      13|      22|\n",
            "| A & N Islands|2002|     12|      10|   14|   16|  10|   7|  16|    11|       23|     21|      11|      17|\n",
            "| A & N Islands|2003|     19|      13|   15|   13|  13|  12|   8|    16|       17|     25|      14|      15|\n",
            "| A & N Islands|2004|     21|      14|   22|   17|  13|  18|  16|    19|       16|     20|      15|      24|\n",
            "| A & N Islands|2005|     19|      21|   22|   17|  13|  19|  21|    14|       15|     19|      10|      16|\n",
            "| A & N Islands|2006|     21|      13|    4|   22|   9|  14|  12|    14|        8|     14|       6|      18|\n",
            "| A & N Islands|2007|     17|      16|   12|   22|  12|  14|   8|    10|       11|      7|      11|      12|\n",
            "| A & N Islands|2008|     17|      22|   15|   16|  15|  17|  13|    11|       13|     17|      11|      24|\n",
            "| A & N Islands|2009|     16|      23|   23|   21|  21|  19|  24|    25|       31|     22|      20|      26|\n",
            "| A & N Islands|2010|     16|      30|   28|   15|  29|  24|  22|    18|       25|     30|      27|      21|\n",
            "| A & N Islands|2011|     24|      10|   19|   24|  13|  28|  17|    18|       25|     17|      18|      22|\n",
            "| A & N Islands|2012|     25|      15|   24|   24|  18|  16|  17|    18|       18|     25|      17|      19|\n",
            "| A & N Islands|2013|     24|      23|   16|   15|  13|  16|  14|    25|       14|     15|      14|      11|\n",
            "| A & N Islands|2014|     25|      13|   19|   19|  18|  15|  15|    16|       15|     23|      18|      22|\n",
            "|Andhra Pradesh|2001|   2204|    2437| 2405| 2351|2550|2284|2025|  2077|     2070|   2276|    2122|    2387|\n",
            "|Andhra Pradesh|2002|   2492|    2453| 2835| 2786|3195|2880|2645|  2607|     2555|   2624|    2646|    2859|\n",
            "|Andhra Pradesh|2003|   2783|    2569| 2870| 2635|3265|2924|2657|  2934|     2767|   2881|    3037|    3215|\n",
            "|Andhra Pradesh|2004|   3019|    3131| 3211| 3100|3257|2942|2827|  3079|     2972|   3041|    3129|    3370|\n",
            "|Andhra Pradesh|2005|   3189|    3193| 3182| 3056|3612|3247|2907|  3028|     2742|   2928|    2975|    3230|\n",
            "|Andhra Pradesh|2006|   3568|    3224| 3496| 3634|3962|3400|3334|  3311|     3232|   3306|    3268|    3588|\n",
            "+--------------+----+-------+--------+-----+-----+----+----+----+------+---------+-------+--------+--------+\n",
            "only showing top 20 rows\n",
            "\n",
            "root\n",
            " |-- STATE/UT: string (nullable = true)\n",
            " |-- YEAR: integer (nullable = true)\n",
            " |-- JANUARY: integer (nullable = true)\n",
            " |-- FEBRUARY: integer (nullable = true)\n",
            " |-- MARCH: integer (nullable = true)\n",
            " |-- APRIL: integer (nullable = true)\n",
            " |-- MAY: integer (nullable = true)\n",
            " |-- JUNE: integer (nullable = true)\n",
            " |-- JULY: integer (nullable = true)\n",
            " |-- AUGUST: integer (nullable = true)\n",
            " |-- SEPTEMBER: integer (nullable = true)\n",
            " |-- OCTOBER: integer (nullable = true)\n",
            " |-- NOVEMBER: integer (nullable = true)\n",
            " |-- DECEMBER: integer (nullable = true)\n",
            "\n"
          ]
        }
      ]
    },
    {
      "cell_type": "code",
      "source": [
        "df2 = spark.sparkContext.textFile('drive/My Drive/ABD/Road_accidents_time.csv')"
      ],
      "metadata": {
        "id": "DS_yV1zMoH1w"
      },
      "execution_count": 24,
      "outputs": []
    },
    {
      "cell_type": "code",
      "source": [
        "df2 = spark.read.csv('drive/My Drive/ABD/Road_accidents_time.csv',header = True, inferSchema = True)\n",
        "df2.show()\n",
        "df2.printSchema()"
      ],
      "metadata": {
        "colab": {
          "base_uri": "https://localhost:8080/"
        },
        "id": "P1nlYWmAoTf_",
        "outputId": "66433d63-672d-40fc-b1e2-e6352bc44e1e"
      },
      "execution_count": 25,
      "outputs": [
        {
          "output_type": "stream",
          "name": "stdout",
          "text": [
            "+--------------+----+----------------+----------------+-------------+--------------+---------------+---------------+-----------------+-----------------+\n",
            "|      STATE/UT|YEAR|0-3 hrs. (Night)|3-6 hrs. (Night)|6-9 hrs (Day)|9-12 hrs (Day)|12-15 hrs (Day)|15-18 hrs (Day)|18-21 hrs (Night)|21-24 hrs (Night)|\n",
            "+--------------+----+----------------+----------------+-------------+--------------+---------------+---------------+-----------------+-----------------+\n",
            "| A & N Islands|2001|               2|               6|           29|            40|             39|             40|               18|                7|\n",
            "| A & N Islands|2002|               2|               6|           22|            41|             33|             33|               23|                8|\n",
            "| A & N Islands|2003|               2|               8|           31|            35|             28|             36|               25|               15|\n",
            "| A & N Islands|2004|               2|               5|           29|            42|             43|             43|               37|               14|\n",
            "| A & N Islands|2005|               0|               8|           27|            28|             38|             42|               50|               13|\n",
            "| A & N Islands|2006|               1|               3|           17|            33|             33|             23|               38|                7|\n",
            "| A & N Islands|2007|               2|               5|           20|            30|             30|             27|               31|                7|\n",
            "| A & N Islands|2008|               3|               7|           33|            24|             40|             31|               40|               13|\n",
            "| A & N Islands|2009|               2|               6|           35|            41|             64|             54|               50|               19|\n",
            "| A & N Islands|2010|               2|              10|           36|            45|             64|             57|               53|               18|\n",
            "| A & N Islands|2011|               4|               3|           36|            27|             46|             50|               51|               18|\n",
            "| A & N Islands|2012|               4|               6|           26|            29|             54|             45|               58|               14|\n",
            "| A & N Islands|2013|               2|               3|           22|            31|             40|             40|               37|               25|\n",
            "| A & N Islands|2014|               4|               6|           25|            28|             55|             36|               41|               23|\n",
            "|Andhra Pradesh|2001|            2239|            3265|         3198|          3729|           3604|           3792|             4098|             3263|\n",
            "|Andhra Pradesh|2002|            2931|            3857|         3671|          4255|           4153|           4778|             4844|             4088|\n",
            "|Andhra Pradesh|2003|            3158|            4865|         3749|          4319|           4266|           4853|             5218|             4109|\n",
            "|Andhra Pradesh|2004|            3191|            4770|         4598|          5030|           4033|           4971|             6031|             4454|\n",
            "|Andhra Pradesh|2005|            3826|            6011|         5002|          4137|           4261|           4524|             5096|             4432|\n",
            "|Andhra Pradesh|2006|            3635|            5525|         4270|          5108|           4918|           6101|             6757|             5009|\n",
            "+--------------+----+----------------+----------------+-------------+--------------+---------------+---------------+-----------------+-----------------+\n",
            "only showing top 20 rows\n",
            "\n",
            "root\n",
            " |-- STATE/UT: string (nullable = true)\n",
            " |-- YEAR: integer (nullable = true)\n",
            " |-- 0-3 hrs. (Night): integer (nullable = true)\n",
            " |-- 3-6 hrs. (Night): integer (nullable = true)\n",
            " |-- 6-9 hrs (Day): integer (nullable = true)\n",
            " |-- 9-12 hrs (Day): integer (nullable = true)\n",
            " |-- 12-15 hrs (Day): integer (nullable = true)\n",
            " |-- 15-18 hrs (Day): integer (nullable = true)\n",
            " |-- 18-21 hrs (Night): integer (nullable = true)\n",
            " |-- 21-24 hrs (Night): integer (nullable = true)\n",
            "\n"
          ]
        }
      ]
    },
    {
      "cell_type": "code",
      "source": [
        "#1 Add column 'Total', giving sum of accidents in each month .\n",
        "total = df1.withColumn('Sum',(col('JANUARY')+col('FEBRUARY')+col('MARCH')+col('APRIL')+col( 'MAY')+col('JUNE')+col('JULY')+col('AUGUST')+col('SEPTEMBER')+col('OCTOBER')+col('NOVEMBER')+col('DECEMBER')))\n",
        "total.show()"
      ],
      "metadata": {
        "colab": {
          "base_uri": "https://localhost:8080/"
        },
        "id": "_nHTml8pooHx",
        "outputId": "d08bcbc5-dd99-4374-eecc-69cb81a630de"
      },
      "execution_count": 30,
      "outputs": [
        {
          "output_type": "stream",
          "name": "stdout",
          "text": [
            "+--------------+----+-------+--------+-----+-----+----+----+----+------+---------+-------+--------+--------+-----+\n",
            "|      STATE/UT|YEAR|JANUARY|FEBRUARY|MARCH|APRIL| MAY|JUNE|JULY|AUGUST|SEPTEMBER|OCTOBER|NOVEMBER|DECEMBER|  Sum|\n",
            "+--------------+----+-------+--------+-----+-----+----+----+----+------+---------+-------+--------+--------+-----+\n",
            "| A & N Islands|2001|      8|      23|   15|   15|  14|  19|  14|    19|        7|     12|      13|      22|  181|\n",
            "| A & N Islands|2002|     12|      10|   14|   16|  10|   7|  16|    11|       23|     21|      11|      17|  168|\n",
            "| A & N Islands|2003|     19|      13|   15|   13|  13|  12|   8|    16|       17|     25|      14|      15|  180|\n",
            "| A & N Islands|2004|     21|      14|   22|   17|  13|  18|  16|    19|       16|     20|      15|      24|  215|\n",
            "| A & N Islands|2005|     19|      21|   22|   17|  13|  19|  21|    14|       15|     19|      10|      16|  206|\n",
            "| A & N Islands|2006|     21|      13|    4|   22|   9|  14|  12|    14|        8|     14|       6|      18|  155|\n",
            "| A & N Islands|2007|     17|      16|   12|   22|  12|  14|   8|    10|       11|      7|      11|      12|  152|\n",
            "| A & N Islands|2008|     17|      22|   15|   16|  15|  17|  13|    11|       13|     17|      11|      24|  191|\n",
            "| A & N Islands|2009|     16|      23|   23|   21|  21|  19|  24|    25|       31|     22|      20|      26|  271|\n",
            "| A & N Islands|2010|     16|      30|   28|   15|  29|  24|  22|    18|       25|     30|      27|      21|  285|\n",
            "| A & N Islands|2011|     24|      10|   19|   24|  13|  28|  17|    18|       25|     17|      18|      22|  235|\n",
            "| A & N Islands|2012|     25|      15|   24|   24|  18|  16|  17|    18|       18|     25|      17|      19|  236|\n",
            "| A & N Islands|2013|     24|      23|   16|   15|  13|  16|  14|    25|       14|     15|      14|      11|  200|\n",
            "| A & N Islands|2014|     25|      13|   19|   19|  18|  15|  15|    16|       15|     23|      18|      22|  218|\n",
            "|Andhra Pradesh|2001|   2204|    2437| 2405| 2351|2550|2284|2025|  2077|     2070|   2276|    2122|    2387|27188|\n",
            "|Andhra Pradesh|2002|   2492|    2453| 2835| 2786|3195|2880|2645|  2607|     2555|   2624|    2646|    2859|32577|\n",
            "|Andhra Pradesh|2003|   2783|    2569| 2870| 2635|3265|2924|2657|  2934|     2767|   2881|    3037|    3215|34537|\n",
            "|Andhra Pradesh|2004|   3019|    3131| 3211| 3100|3257|2942|2827|  3079|     2972|   3041|    3129|    3370|37078|\n",
            "|Andhra Pradesh|2005|   3189|    3193| 3182| 3056|3612|3247|2907|  3028|     2742|   2928|    2975|    3230|37289|\n",
            "|Andhra Pradesh|2006|   3568|    3224| 3496| 3634|3962|3400|3334|  3311|     3232|   3306|    3268|    3588|41323|\n",
            "+--------------+----+-------+--------+-----+-----+----+----+----+------+---------+-------+--------+--------+-----+\n",
            "only showing top 20 rows\n",
            "\n"
          ]
        }
      ]
    },
    {
      "cell_type": "code",
      "source": [
        "# 2. Which state has highest number of accidents in year 2013?\n",
        "acc = total.select('STATE/UT','YEAR','Sum').filter(col('year')==2013)\n",
        "acc.where(col('Sum') == acc.agg({'Sum':'max'}).collect()[0][0]).show()\n",
        ""
      ],
      "metadata": {
        "colab": {
          "base_uri": "https://localhost:8080/"
        },
        "id": "eCSTINwfr3im",
        "outputId": "2008e336-15f2-4683-fcf8-ae50a65fc9fa"
      },
      "execution_count": 33,
      "outputs": [
        {
          "output_type": "stream",
          "name": "stdout",
          "text": [
            "+----------+----+-----+\n",
            "|  STATE/UT|YEAR|  Sum|\n",
            "+----------+----+-----+\n",
            "|Tamil Nadu|2013|66238|\n",
            "+----------+----+-----+\n",
            "\n"
          ]
        }
      ]
    },
    {
      "cell_type": "code",
      "source": [
        "#Find the average monthly accidents for each state.\n",
        "avg = df1.withColumn('Avg',(col('JANUARY')+col('FEBRUARY')+col('MARCH')+col('APRIL')+col( 'MAY')+col('JUNE')+col('JULY')+col('AUGUST')+col('SEPTEMBER')+col('OCTOBER')+col('NOVEMBER')+col('DECEMBER'))/2)\n",
        "avg.show()"
      ],
      "metadata": {
        "colab": {
          "base_uri": "https://localhost:8080/"
        },
        "id": "n_sOKvz8uz88",
        "outputId": "29102c7f-95e2-459f-fb51-208e87927965"
      },
      "execution_count": 34,
      "outputs": [
        {
          "output_type": "stream",
          "name": "stdout",
          "text": [
            "+--------------+----+-------+--------+-----+-----+----+----+----+------+---------+-------+--------+--------+-------+\n",
            "|      STATE/UT|YEAR|JANUARY|FEBRUARY|MARCH|APRIL| MAY|JUNE|JULY|AUGUST|SEPTEMBER|OCTOBER|NOVEMBER|DECEMBER|    Avg|\n",
            "+--------------+----+-------+--------+-----+-----+----+----+----+------+---------+-------+--------+--------+-------+\n",
            "| A & N Islands|2001|      8|      23|   15|   15|  14|  19|  14|    19|        7|     12|      13|      22|   90.5|\n",
            "| A & N Islands|2002|     12|      10|   14|   16|  10|   7|  16|    11|       23|     21|      11|      17|   84.0|\n",
            "| A & N Islands|2003|     19|      13|   15|   13|  13|  12|   8|    16|       17|     25|      14|      15|   90.0|\n",
            "| A & N Islands|2004|     21|      14|   22|   17|  13|  18|  16|    19|       16|     20|      15|      24|  107.5|\n",
            "| A & N Islands|2005|     19|      21|   22|   17|  13|  19|  21|    14|       15|     19|      10|      16|  103.0|\n",
            "| A & N Islands|2006|     21|      13|    4|   22|   9|  14|  12|    14|        8|     14|       6|      18|   77.5|\n",
            "| A & N Islands|2007|     17|      16|   12|   22|  12|  14|   8|    10|       11|      7|      11|      12|   76.0|\n",
            "| A & N Islands|2008|     17|      22|   15|   16|  15|  17|  13|    11|       13|     17|      11|      24|   95.5|\n",
            "| A & N Islands|2009|     16|      23|   23|   21|  21|  19|  24|    25|       31|     22|      20|      26|  135.5|\n",
            "| A & N Islands|2010|     16|      30|   28|   15|  29|  24|  22|    18|       25|     30|      27|      21|  142.5|\n",
            "| A & N Islands|2011|     24|      10|   19|   24|  13|  28|  17|    18|       25|     17|      18|      22|  117.5|\n",
            "| A & N Islands|2012|     25|      15|   24|   24|  18|  16|  17|    18|       18|     25|      17|      19|  118.0|\n",
            "| A & N Islands|2013|     24|      23|   16|   15|  13|  16|  14|    25|       14|     15|      14|      11|  100.0|\n",
            "| A & N Islands|2014|     25|      13|   19|   19|  18|  15|  15|    16|       15|     23|      18|      22|  109.0|\n",
            "|Andhra Pradesh|2001|   2204|    2437| 2405| 2351|2550|2284|2025|  2077|     2070|   2276|    2122|    2387|13594.0|\n",
            "|Andhra Pradesh|2002|   2492|    2453| 2835| 2786|3195|2880|2645|  2607|     2555|   2624|    2646|    2859|16288.5|\n",
            "|Andhra Pradesh|2003|   2783|    2569| 2870| 2635|3265|2924|2657|  2934|     2767|   2881|    3037|    3215|17268.5|\n",
            "|Andhra Pradesh|2004|   3019|    3131| 3211| 3100|3257|2942|2827|  3079|     2972|   3041|    3129|    3370|18539.0|\n",
            "|Andhra Pradesh|2005|   3189|    3193| 3182| 3056|3612|3247|2907|  3028|     2742|   2928|    2975|    3230|18644.5|\n",
            "|Andhra Pradesh|2006|   3568|    3224| 3496| 3634|3962|3400|3334|  3311|     3232|   3306|    3268|    3588|20661.5|\n",
            "+--------------+----+-------+--------+-----+-----+----+----+----+------+---------+-------+--------+--------+-------+\n",
            "only showing top 20 rows\n",
            "\n"
          ]
        }
      ]
    },
    {
      "cell_type": "code",
      "source": [
        "#4 Which month has highest accidents?\n",
        "High_acc = avg.select('STATE/UT','YEAR','Avg').show()"
      ],
      "metadata": {
        "colab": {
          "base_uri": "https://localhost:8080/"
        },
        "id": "kgcAAHwVvPaA",
        "outputId": "ae727dfd-0848-4993-f9f5-eb47ce53ff34"
      },
      "execution_count": 36,
      "outputs": [
        {
          "output_type": "stream",
          "name": "stdout",
          "text": [
            "+--------------+----+-------+\n",
            "|      STATE/UT|YEAR|    Avg|\n",
            "+--------------+----+-------+\n",
            "| A & N Islands|2001|   90.5|\n",
            "| A & N Islands|2002|   84.0|\n",
            "| A & N Islands|2003|   90.0|\n",
            "| A & N Islands|2004|  107.5|\n",
            "| A & N Islands|2005|  103.0|\n",
            "| A & N Islands|2006|   77.5|\n",
            "| A & N Islands|2007|   76.0|\n",
            "| A & N Islands|2008|   95.5|\n",
            "| A & N Islands|2009|  135.5|\n",
            "| A & N Islands|2010|  142.5|\n",
            "| A & N Islands|2011|  117.5|\n",
            "| A & N Islands|2012|  118.0|\n",
            "| A & N Islands|2013|  100.0|\n",
            "| A & N Islands|2014|  109.0|\n",
            "|Andhra Pradesh|2001|13594.0|\n",
            "|Andhra Pradesh|2002|16288.5|\n",
            "|Andhra Pradesh|2003|17268.5|\n",
            "|Andhra Pradesh|2004|18539.0|\n",
            "|Andhra Pradesh|2005|18644.5|\n",
            "|Andhra Pradesh|2006|20661.5|\n",
            "+--------------+----+-------+\n",
            "only showing top 20 rows\n",
            "\n"
          ]
        }
      ]
    },
    {
      "cell_type": "code",
      "source": [
        "df2.show()"
      ],
      "metadata": {
        "colab": {
          "base_uri": "https://localhost:8080/"
        },
        "id": "7SJjU510w94m",
        "outputId": "a538170a-a821-4b0e-ebb4-ec2cb2bc65af"
      },
      "execution_count": 38,
      "outputs": [
        {
          "output_type": "stream",
          "name": "stdout",
          "text": [
            "+--------------+----+----------------+----------------+-------------+--------------+---------------+---------------+-----------------+-----------------+\n",
            "|      STATE/UT|YEAR|0-3 hrs. (Night)|3-6 hrs. (Night)|6-9 hrs (Day)|9-12 hrs (Day)|12-15 hrs (Day)|15-18 hrs (Day)|18-21 hrs (Night)|21-24 hrs (Night)|\n",
            "+--------------+----+----------------+----------------+-------------+--------------+---------------+---------------+-----------------+-----------------+\n",
            "| A & N Islands|2001|               2|               6|           29|            40|             39|             40|               18|                7|\n",
            "| A & N Islands|2002|               2|               6|           22|            41|             33|             33|               23|                8|\n",
            "| A & N Islands|2003|               2|               8|           31|            35|             28|             36|               25|               15|\n",
            "| A & N Islands|2004|               2|               5|           29|            42|             43|             43|               37|               14|\n",
            "| A & N Islands|2005|               0|               8|           27|            28|             38|             42|               50|               13|\n",
            "| A & N Islands|2006|               1|               3|           17|            33|             33|             23|               38|                7|\n",
            "| A & N Islands|2007|               2|               5|           20|            30|             30|             27|               31|                7|\n",
            "| A & N Islands|2008|               3|               7|           33|            24|             40|             31|               40|               13|\n",
            "| A & N Islands|2009|               2|               6|           35|            41|             64|             54|               50|               19|\n",
            "| A & N Islands|2010|               2|              10|           36|            45|             64|             57|               53|               18|\n",
            "| A & N Islands|2011|               4|               3|           36|            27|             46|             50|               51|               18|\n",
            "| A & N Islands|2012|               4|               6|           26|            29|             54|             45|               58|               14|\n",
            "| A & N Islands|2013|               2|               3|           22|            31|             40|             40|               37|               25|\n",
            "| A & N Islands|2014|               4|               6|           25|            28|             55|             36|               41|               23|\n",
            "|Andhra Pradesh|2001|            2239|            3265|         3198|          3729|           3604|           3792|             4098|             3263|\n",
            "|Andhra Pradesh|2002|            2931|            3857|         3671|          4255|           4153|           4778|             4844|             4088|\n",
            "|Andhra Pradesh|2003|            3158|            4865|         3749|          4319|           4266|           4853|             5218|             4109|\n",
            "|Andhra Pradesh|2004|            3191|            4770|         4598|          5030|           4033|           4971|             6031|             4454|\n",
            "|Andhra Pradesh|2005|            3826|            6011|         5002|          4137|           4261|           4524|             5096|             4432|\n",
            "|Andhra Pradesh|2006|            3635|            5525|         4270|          5108|           4918|           6101|             6757|             5009|\n",
            "+--------------+----+----------------+----------------+-------------+--------------+---------------+---------------+-----------------+-----------------+\n",
            "only showing top 20 rows\n",
            "\n"
          ]
        }
      ]
    },
    {
      "cell_type": "code",
      "source": [
        "#5 Which time slot (like 0-3, 3-6 etc) has more accidents? What about 'Karnataka' state?\n",
        "time = df2.withColumnRenamed('0-3 hrs. (Night)','Till 3 (night)')\n",
        "time.filter(col('STATE/UT') == 'Karnataka').show()"
      ],
      "metadata": {
        "colab": {
          "base_uri": "https://localhost:8080/"
        },
        "id": "9ESEeX8EwZcm",
        "outputId": "ae15dca6-7103-4a15-8735-f47adbcce25c"
      },
      "execution_count": 41,
      "outputs": [
        {
          "output_type": "stream",
          "name": "stdout",
          "text": [
            "+---------+----+--------------+----------------+-------------+--------------+---------------+---------------+-----------------+-----------------+\n",
            "| STATE/UT|YEAR|Till 3 (night)|3-6 hrs. (Night)|6-9 hrs (Day)|9-12 hrs (Day)|12-15 hrs (Day)|15-18 hrs (Day)|18-21 hrs (Night)|21-24 hrs (Night)|\n",
            "+---------+----+--------------+----------------+-------------+--------------+---------------+---------------+-----------------+-----------------+\n",
            "|Karnataka|2001|          2426|            2925|         3775|          5210|           4799|           5131|             4807|             3787|\n",
            "|Karnataka|2002|          2663|            3482|         4123|          5865|           5414|           5315|             5141|             3658|\n",
            "|Karnataka|2003|          2719|            3398|         4095|          5735|           5696|           6154|             5687|             4027|\n",
            "|Karnataka|2004|          2576|            3106|         4140|          5955|           5888|           6400|             6371|             4315|\n",
            "|Karnataka|2005|          2949|            3198|         4665|          6193|           6095|           6658|             6377|             4138|\n",
            "|Karnataka|2006|          3264|            3702|         4738|          6871|           6425|           6709|             6839|             4732|\n",
            "|Karnataka|2007|          3239|            3590|         5350|          7142|           7486|           7193|             7263|             5071|\n",
            "|Karnataka|2008|          3181|            3802|         5471|          6533|           7183|           7051|             7159|             5872|\n",
            "|Karnataka|2009|          3107|            3750|         5001|          6399|           6733|           7066|             7258|             5876|\n",
            "|Karnataka|2010|          3481|            5270|         5268|          6922|           6451|           6951|             7207|             4670|\n",
            "|Karnataka|2011|          3468|            3807|         4657|          6606|           6568|           7376|             7501|             4713|\n",
            "|Karnataka|2012|          3085|            2802|         4472|          6842|           6753|           7802|             7431|             5261|\n",
            "|Karnataka|2013|          3318|            3174|         4126|          6104|           5836|           6201|             6526|             4306|\n",
            "|Karnataka|2014|          3022|            3219|         4576|          6393|           6646|           7119|             7377|             5342|\n",
            "+---------+----+--------------+----------------+-------------+--------------+---------------+---------------+-----------------+-----------------+\n",
            "\n"
          ]
        }
      ]
    },
    {
      "cell_type": "code",
      "source": [
        "#Which state has more accidents from year 2001 to 2014?\n",
        "acc = total.select('STATE/UT','YEAR','Sum').where(col('YEAR') <= 2014)\n",
        "state = acc.groupBy('STATE/UT','Sum').count().agg({'Sum':'sum'}).collect()[0][0]\n",
        "state"
      ],
      "metadata": {
        "colab": {
          "base_uri": "https://localhost:8080/"
        },
        "id": "svQWFsN8xVFa",
        "outputId": "d5e63d7f-b877-4548-da97-7033cc51205e"
      },
      "execution_count": 54,
      "outputs": [
        {
          "output_type": "execute_result",
          "data": {
            "text/plain": [
              "5599501"
            ]
          },
          "metadata": {},
          "execution_count": 54
        }
      ]
    },
    {
      "cell_type": "code",
      "source": [
        "#8\n",
        "\n",
        "highest_acc = df1.select([col for col in df1.columns if col!= 'STATE/UT' and col!='YEAR'])\n",
        "var  = {}\n",
        "for i in highest_acc.columns:\n",
        "  var[i] = highest_acc.agg({i:'max'}).collect()[0][0]\n",
        "df4 = spark.createDataFrame(var.items(), [\"month\", \"value\"])\n",
        "maxValue = df4.agg({'value':'max'}).collect()[0][0]\n",
        "df4.select('month','value').where(col('value')==maxValue).show()"
      ],
      "metadata": {
        "colab": {
          "base_uri": "https://localhost:8080/"
        },
        "id": "Cw8bw5nKzBfi",
        "outputId": "c5848604-f01e-44e4-8bec-4a49b56c67f4"
      },
      "execution_count": 56,
      "outputs": [
        {
          "output_type": "stream",
          "name": "stdout",
          "text": [
            "+-----+-----+\n",
            "|month|value|\n",
            "+-----+-----+\n",
            "|  MAY| 9330|\n",
            "+-----+-----+\n",
            "\n"
          ]
        }
      ]
    }
  ]
}